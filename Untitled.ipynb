{
 "cells": [
  {
   "cell_type": "code",
   "execution_count": 7,
   "id": "2ddd24f4",
   "metadata": {},
   "outputs": [],
   "source": [
    "import pandas as pd\n",
    "import os"
   ]
  },
  {
   "cell_type": "code",
   "execution_count": 8,
   "id": "59352545",
   "metadata": {},
   "outputs": [
    {
     "ename": "NameError",
     "evalue": "name 'dill' is not defined",
     "output_type": "error",
     "traceback": [
      "\u001b[1;31m---------------------------------------------------------------------------\u001b[0m",
      "\u001b[1;31mNameError\u001b[0m                                 Traceback (most recent call last)",
      "Cell \u001b[1;32mIn[8], line 1\u001b[0m\n\u001b[1;32m----> 1\u001b[0m \u001b[43mdill\u001b[49m\u001b[38;5;241m.\u001b[39mdump_session(\u001b[38;5;124m'\u001b[39m\u001b[38;5;124mnotebook_env.db\u001b[39m\u001b[38;5;124m'\u001b[39m)\n",
      "\u001b[1;31mNameError\u001b[0m: name 'dill' is not defined"
     ]
    }
   ],
   "source": [
    "dill.dump_session('notebook_env.db')"
   ]
  },
  {
   "cell_type": "code",
   "execution_count": 2,
   "id": "07b7753e",
   "metadata": {},
   "outputs": [
    {
     "ename": "ValueError",
     "evalue": "No Excel writer 'rb'",
     "output_type": "error",
     "traceback": [
      "\u001b[1;31m---------------------------------------------------------------------------\u001b[0m",
      "\u001b[1;31mKeyError\u001b[0m                                  Traceback (most recent call last)",
      "\u001b[1;32mC:\\Program Files\\ArcGIS\\Pro\\bin\\Python\\envs\\arcgispro-py3\\lib\\site-packages\\pandas\\io\\excel.py\u001b[0m in \u001b[0;36mget_writer\u001b[1;34m(engine_name)\u001b[0m\n\u001b[0;32m    301\u001b[0m     \u001b[1;32mtry\u001b[0m\u001b[1;33m:\u001b[0m\u001b[1;33m\u001b[0m\u001b[1;33m\u001b[0m\u001b[0m\n\u001b[1;32m--> 302\u001b[1;33m         \u001b[1;32mreturn\u001b[0m \u001b[0m_writers\u001b[0m\u001b[1;33m[\u001b[0m\u001b[0mengine_name\u001b[0m\u001b[1;33m]\u001b[0m\u001b[1;33m\u001b[0m\u001b[1;33m\u001b[0m\u001b[0m\n\u001b[0m\u001b[0;32m    303\u001b[0m     \u001b[1;32mexcept\u001b[0m \u001b[0mKeyError\u001b[0m\u001b[1;33m:\u001b[0m\u001b[1;33m\u001b[0m\u001b[1;33m\u001b[0m\u001b[0m\n",
      "\u001b[1;31mKeyError\u001b[0m: 'rb'",
      "\nDuring handling of the above exception, another exception occurred:\n",
      "\u001b[1;31mValueError\u001b[0m                                Traceback (most recent call last)",
      "\u001b[1;32m<ipython-input-2-bca6e3c86d97>\u001b[0m in \u001b[0;36m<module>\u001b[1;34m\u001b[0m\n\u001b[1;32m----> 1\u001b[1;33m \u001b[0mwriter\u001b[0m \u001b[1;33m=\u001b[0m \u001b[0mpd\u001b[0m\u001b[1;33m.\u001b[0m\u001b[0mExcelWriter\u001b[0m\u001b[1;33m(\u001b[0m\u001b[1;34m'BehaviorStudyInitialResults_20230405.xlsx'\u001b[0m\u001b[1;33m,\u001b[0m \u001b[1;34m'rb'\u001b[0m\u001b[1;33m)\u001b[0m\u001b[1;33m\u001b[0m\u001b[1;33m\u001b[0m\u001b[0m\n\u001b[0m",
      "\u001b[1;32mC:\\Program Files\\ArcGIS\\Pro\\bin\\Python\\envs\\arcgispro-py3\\lib\\site-packages\\pandas\\io\\excel.py\u001b[0m in \u001b[0;36m__new__\u001b[1;34m(cls, path, engine, **kwargs)\u001b[0m\n\u001b[0;32m   1055\u001b[0m                                        .format(ext=ext))\n\u001b[0;32m   1056\u001b[0m                     \u001b[1;32mraise\u001b[0m \u001b[0merror\u001b[0m\u001b[1;33m\u001b[0m\u001b[1;33m\u001b[0m\u001b[0m\n\u001b[1;32m-> 1057\u001b[1;33m             \u001b[0mcls\u001b[0m \u001b[1;33m=\u001b[0m \u001b[0mget_writer\u001b[0m\u001b[1;33m(\u001b[0m\u001b[0mengine\u001b[0m\u001b[1;33m)\u001b[0m\u001b[1;33m\u001b[0m\u001b[1;33m\u001b[0m\u001b[0m\n\u001b[0m\u001b[0;32m   1058\u001b[0m \u001b[1;33m\u001b[0m\u001b[0m\n\u001b[0;32m   1059\u001b[0m         \u001b[1;32mreturn\u001b[0m \u001b[0mobject\u001b[0m\u001b[1;33m.\u001b[0m\u001b[0m__new__\u001b[0m\u001b[1;33m(\u001b[0m\u001b[0mcls\u001b[0m\u001b[1;33m)\u001b[0m\u001b[1;33m\u001b[0m\u001b[1;33m\u001b[0m\u001b[0m\n",
      "\u001b[1;32mC:\\Program Files\\ArcGIS\\Pro\\bin\\Python\\envs\\arcgispro-py3\\lib\\site-packages\\pandas\\io\\excel.py\u001b[0m in \u001b[0;36mget_writer\u001b[1;34m(engine_name)\u001b[0m\n\u001b[0;32m    303\u001b[0m     \u001b[1;32mexcept\u001b[0m \u001b[0mKeyError\u001b[0m\u001b[1;33m:\u001b[0m\u001b[1;33m\u001b[0m\u001b[1;33m\u001b[0m\u001b[0m\n\u001b[0;32m    304\u001b[0m         raise ValueError(\"No Excel writer '{engine}'\"\n\u001b[1;32m--> 305\u001b[1;33m                          .format(engine=engine_name))\n\u001b[0m\u001b[0;32m    306\u001b[0m \u001b[1;33m\u001b[0m\u001b[0m\n\u001b[0;32m    307\u001b[0m \u001b[1;33m\u001b[0m\u001b[0m\n",
      "\u001b[1;31mValueError\u001b[0m: No Excel writer 'rb'"
     ]
    }
   ],
   "source": [
    "writer = pd.ExcelWriter('BehaviorStudyInitialResults_20230405.xlsx', 'rb')"
   ]
  },
  {
   "cell_type": "code",
   "execution_count": 4,
   "id": "a87c580b",
   "metadata": {},
   "outputs": [],
   "source": [
    "server_path = '//ennyccifs01/Jobs2/NYCDOT ESA TO14 Driver Behavior/Driver Behavior/Data/'\n",
    "\n",
    "#All Fatal Data\n",
    "\n",
    "Fatal_Crash = pd.read_csv(server_path+'Fatality/Fatal_Crash.csv', low_memory = False)\n",
    "Fatal_Geography = pd.read_csv(server_path+'Fatality/Fatal_Geography.csv', low_memory = False)\n",
    "Fatal_Vehicle = pd.read_csv(server_path+'Fatality/Fatal_Vehicle.csv', low_memory = False)\n",
    "Fatal_Victim = pd.read_csv(server_path+'Fatality/Fatal_Victim.csv', low_memory = False)\n",
    "\n",
    "VDATA1 = pd.read_csv(server_path+'VDATA1.csv', low_memory = False)\n"
   ]
  },
  {
   "cell_type": "code",
   "execution_count": 10,
   "id": "94191e5b",
   "metadata": {},
   "outputs": [
    {
     "data": {
      "text/html": [
       "<div>\n",
       "<style scoped>\n",
       "    .dataframe tbody tr th:only-of-type {\n",
       "        vertical-align: middle;\n",
       "    }\n",
       "\n",
       "    .dataframe tbody tr th {\n",
       "        vertical-align: top;\n",
       "    }\n",
       "\n",
       "    .dataframe thead th {\n",
       "        text-align: right;\n",
       "    }\n",
       "</style>\n",
       "<table border=\"1\" class=\"dataframe\">\n",
       "  <thead>\n",
       "    <tr style=\"text-align: right;\">\n",
       "      <th></th>\n",
       "      <th>plate</th>\n",
       "      <th>state</th>\n",
       "      <th>license_type</th>\n",
       "      <th>summons_number</th>\n",
       "      <th>issue_date</th>\n",
       "      <th>violation_time</th>\n",
       "      <th>violation</th>\n",
       "      <th>judgment_entry_date</th>\n",
       "      <th>fine_amount</th>\n",
       "      <th>penalty_amount</th>\n",
       "      <th>interest_amount</th>\n",
       "      <th>reduction_amount</th>\n",
       "      <th>payment_amount</th>\n",
       "      <th>amount_due</th>\n",
       "      <th>precinct</th>\n",
       "      <th>county</th>\n",
       "      <th>issuing_agency</th>\n",
       "      <th>violation_status</th>\n",
       "      <th>summons_image</th>\n",
       "    </tr>\n",
       "  </thead>\n",
       "  <tbody>\n",
       "    <tr>\n",
       "      <th>0</th>\n",
       "      <td>Z46GMU</td>\n",
       "      <td>NJ</td>\n",
       "      <td>PAS</td>\n",
       "      <td>7.590882e+09</td>\n",
       "      <td>2016-06-11</td>\n",
       "      <td>04:21P</td>\n",
       "      <td>NO STANDING-COMM METER ZONE</td>\n",
       "      <td>2016-10-06</td>\n",
       "      <td>115.0</td>\n",
       "      <td>60.0</td>\n",
       "      <td>101.24</td>\n",
       "      <td>0.00</td>\n",
       "      <td>0.00</td>\n",
       "      <td>276.24</td>\n",
       "      <td>14.0</td>\n",
       "      <td>NY</td>\n",
       "      <td>TRAFFIC</td>\n",
       "      <td>NaN</td>\n",
       "      <td>View Summons (http://nycserv.nyc.gov/NYCServWe...</td>\n",
       "    </tr>\n",
       "    <tr>\n",
       "      <th>1</th>\n",
       "      <td>395PY1</td>\n",
       "      <td>MA</td>\n",
       "      <td>PAS</td>\n",
       "      <td>7.590879e+09</td>\n",
       "      <td>2016-02-18</td>\n",
       "      <td>06:31P</td>\n",
       "      <td>NO STANDING-DAY/TIME LIMITS</td>\n",
       "      <td>2016-06-09</td>\n",
       "      <td>115.0</td>\n",
       "      <td>60.0</td>\n",
       "      <td>106.34</td>\n",
       "      <td>0.00</td>\n",
       "      <td>0.00</td>\n",
       "      <td>281.34</td>\n",
       "      <td>6.0</td>\n",
       "      <td>NY</td>\n",
       "      <td>TRAFFIC</td>\n",
       "      <td>NaN</td>\n",
       "      <td>View Summons (http://nycserv.nyc.gov/NYCServWe...</td>\n",
       "    </tr>\n",
       "    <tr>\n",
       "      <th>2</th>\n",
       "      <td>CEW6864</td>\n",
       "      <td>GA</td>\n",
       "      <td>PAS</td>\n",
       "      <td>4.625039e+09</td>\n",
       "      <td>2016-10-14</td>\n",
       "      <td>10:49A</td>\n",
       "      <td>PHTO SCHOOL ZN SPEED VIOLATION</td>\n",
       "      <td>2017-01-12</td>\n",
       "      <td>50.0</td>\n",
       "      <td>25.0</td>\n",
       "      <td>42.03</td>\n",
       "      <td>0.00</td>\n",
       "      <td>0.00</td>\n",
       "      <td>117.03</td>\n",
       "      <td>0.0</td>\n",
       "      <td>BK</td>\n",
       "      <td>DEPARTMENT OF TRANSPORTATION</td>\n",
       "      <td>NaN</td>\n",
       "      <td>View Summons (http://nycserv.nyc.gov/NYCServWe...</td>\n",
       "    </tr>\n",
       "    <tr>\n",
       "      <th>3</th>\n",
       "      <td>KKT6182</td>\n",
       "      <td>NY</td>\n",
       "      <td>PAS</td>\n",
       "      <td>8.987997e+09</td>\n",
       "      <td>2022-03-03</td>\n",
       "      <td>08:45A</td>\n",
       "      <td>NO PARKING-STREET CLEANING</td>\n",
       "      <td>2022-07-28</td>\n",
       "      <td>65.0</td>\n",
       "      <td>60.0</td>\n",
       "      <td>1.16</td>\n",
       "      <td>0.22</td>\n",
       "      <td>125.94</td>\n",
       "      <td>0.00</td>\n",
       "      <td>90.0</td>\n",
       "      <td>K</td>\n",
       "      <td>TRAFFIC</td>\n",
       "      <td>NaN</td>\n",
       "      <td>View Summons (http://nycserv.nyc.gov/NYCServWe...</td>\n",
       "    </tr>\n",
       "    <tr>\n",
       "      <th>4</th>\n",
       "      <td>JGU2099</td>\n",
       "      <td>NY</td>\n",
       "      <td>PAS</td>\n",
       "      <td>8.777330e+09</td>\n",
       "      <td>2020-05-28</td>\n",
       "      <td>NaN</td>\n",
       "      <td>NaN</td>\n",
       "      <td>NaN</td>\n",
       "      <td>NaN</td>\n",
       "      <td>NaN</td>\n",
       "      <td>NaN</td>\n",
       "      <td>NaN</td>\n",
       "      <td>NaN</td>\n",
       "      <td>NaN</td>\n",
       "      <td>NaN</td>\n",
       "      <td>NaN</td>\n",
       "      <td>NaN</td>\n",
       "      <td>NaN</td>\n",
       "      <td>View Summons (http://nycserv.nyc.gov/NYCServWe...</td>\n",
       "    </tr>\n",
       "  </tbody>\n",
       "</table>\n",
       "</div>"
      ],
      "text/plain": [
       "     plate state license_type  summons_number  issue_date violation_time  \\\n",
       "0   Z46GMU    NJ          PAS    7.590882e+09  2016-06-11         04:21P   \n",
       "1   395PY1    MA          PAS    7.590879e+09  2016-02-18         06:31P   \n",
       "2  CEW6864    GA          PAS    4.625039e+09  2016-10-14         10:49A   \n",
       "3  KKT6182    NY          PAS    8.987997e+09  2022-03-03         08:45A   \n",
       "4  JGU2099    NY          PAS    8.777330e+09  2020-05-28            NaN   \n",
       "\n",
       "                        violation judgment_entry_date  fine_amount  \\\n",
       "0     NO STANDING-COMM METER ZONE          2016-10-06        115.0   \n",
       "1     NO STANDING-DAY/TIME LIMITS          2016-06-09        115.0   \n",
       "2  PHTO SCHOOL ZN SPEED VIOLATION          2017-01-12         50.0   \n",
       "3      NO PARKING-STREET CLEANING          2022-07-28         65.0   \n",
       "4                             NaN                 NaN          NaN   \n",
       "\n",
       "   penalty_amount  interest_amount  reduction_amount  payment_amount  \\\n",
       "0            60.0           101.24              0.00            0.00   \n",
       "1            60.0           106.34              0.00            0.00   \n",
       "2            25.0            42.03              0.00            0.00   \n",
       "3            60.0             1.16              0.22          125.94   \n",
       "4             NaN              NaN               NaN             NaN   \n",
       "\n",
       "   amount_due  precinct county                issuing_agency violation_status  \\\n",
       "0      276.24      14.0     NY                       TRAFFIC              NaN   \n",
       "1      281.34       6.0     NY                       TRAFFIC              NaN   \n",
       "2      117.03       0.0     BK  DEPARTMENT OF TRANSPORTATION              NaN   \n",
       "3        0.00      90.0      K                       TRAFFIC              NaN   \n",
       "4         NaN       NaN    NaN                           NaN              NaN   \n",
       "\n",
       "                                       summons_image  \n",
       "0  View Summons (http://nycserv.nyc.gov/NYCServWe...  \n",
       "1  View Summons (http://nycserv.nyc.gov/NYCServWe...  \n",
       "2  View Summons (http://nycserv.nyc.gov/NYCServWe...  \n",
       "3  View Summons (http://nycserv.nyc.gov/NYCServWe...  \n",
       "4  View Summons (http://nycserv.nyc.gov/NYCServWe...  "
      ]
     },
     "execution_count": 10,
     "metadata": {},
     "output_type": "execute_result"
    }
   ],
   "source": [
    "VDATA1.head()"
   ]
  },
  {
   "cell_type": "code",
   "execution_count": 15,
   "id": "70e33157",
   "metadata": {},
   "outputs": [],
   "source": [
    "WC_ACCIDENT_F = pd.read_csv(server_path+'FORMS/WC_ACCIDENT_F.csv', low_memory = False)\n",
    "WC_ACCIDENT_VEHICLE_F = pd.read_csv(server_path+'FORMS/WC_ACCIDENT_VEHICLE_F.csv', low_memory = False)\n",
    "WC_ACCIDENT_VICTIM_F = pd.read_csv(server_path+'FORMS/WC_ACCIDENT_VICTIM_F.csv', low_memory = False)"
   ]
  },
  {
   "cell_type": "code",
   "execution_count": 4,
   "id": "6b6fcb7b",
   "metadata": {},
   "outputs": [
    {
     "ename": "NameError",
     "evalue": "name 'WC_ACCIDENT_F' is not defined",
     "output_type": "error",
     "traceback": [
      "\u001b[1;31m---------------------------------------------------------------------------\u001b[0m",
      "\u001b[1;31mNameError\u001b[0m                                 Traceback (most recent call last)",
      "Cell \u001b[1;32mIn[4], line 1\u001b[0m\n\u001b[1;32m----> 1\u001b[0m \u001b[43mWC_ACCIDENT_F\u001b[49m\u001b[38;5;241m.\u001b[39mhead()\n\u001b[0;32m      2\u001b[0m WC_ACCIDENT_F\u001b[38;5;241m.\u001b[39mcolumns\n",
      "\u001b[1;31mNameError\u001b[0m: name 'WC_ACCIDENT_F' is not defined"
     ]
    }
   ],
   "source": [
    "WC_ACCIDENT_F.head()\n",
    "WC_ACCIDENT_F.columns"
   ]
  },
  {
   "cell_type": "code",
   "execution_count": 1,
   "id": "cd124c6b",
   "metadata": {},
   "outputs": [
    {
     "ename": "SyntaxError",
     "evalue": "invalid syntax (1817364949.py, line 1)",
     "output_type": "error",
     "traceback": [
      "\u001b[1;36m  Cell \u001b[1;32mIn[1], line 1\u001b[1;36m\u001b[0m\n\u001b[1;33m    which python\u001b[0m\n\u001b[1;37m          ^\u001b[0m\n\u001b[1;31mSyntaxError\u001b[0m\u001b[1;31m:\u001b[0m invalid syntax\n"
     ]
    }
   ],
   "source": [
    "which python\n"
   ]
  },
  {
   "cell_type": "code",
   "execution_count": 2,
   "id": "ee670bb5",
   "metadata": {},
   "outputs": [],
   "source": [
    "a = 1\n",
    "b= 2"
   ]
  },
  {
   "cell_type": "code",
   "execution_count": 3,
   "id": "c06435d7",
   "metadata": {},
   "outputs": [
    {
     "name": "stdout",
     "output_type": "stream",
     "text": [
      "Variable   Type    Data/Info\n",
      "----------------------------\n",
      "a          int     1\n",
      "b          int     2\n"
     ]
    }
   ],
   "source": [
    "%whos"
   ]
  },
  {
   "cell_type": "code",
   "execution_count": null,
   "id": "78459fe2",
   "metadata": {},
   "outputs": [],
   "source": []
  }
 ],
 "metadata": {
  "kernelspec": {
   "display_name": "Python 3 (ipykernel)",
   "language": "python",
   "name": "python3"
  },
  "language_info": {
   "codemirror_mode": {
    "name": "ipython",
    "version": 3
   },
   "file_extension": ".py",
   "mimetype": "text/x-python",
   "name": "python",
   "nbconvert_exporter": "python",
   "pygments_lexer": "ipython3",
   "version": "3.11.3"
  }
 },
 "nbformat": 4,
 "nbformat_minor": 5
}
